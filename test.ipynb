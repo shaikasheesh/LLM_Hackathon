{
 "cells": [
  {
   "cell_type": "code",
   "execution_count": 1,
   "metadata": {},
   "outputs": [],
   "source": [
    "import pandas as pd"
   ]
  },
  {
   "cell_type": "code",
   "execution_count": 2,
   "metadata": {},
   "outputs": [
    {
     "data": {
      "text/html": [
       "<div>\n",
       "<style scoped>\n",
       "    .dataframe tbody tr th:only-of-type {\n",
       "        vertical-align: middle;\n",
       "    }\n",
       "\n",
       "    .dataframe tbody tr th {\n",
       "        vertical-align: top;\n",
       "    }\n",
       "\n",
       "    .dataframe thead th {\n",
       "        text-align: right;\n",
       "    }\n",
       "</style>\n",
       "<table border=\"1\" class=\"dataframe\">\n",
       "  <thead>\n",
       "    <tr style=\"text-align: right;\">\n",
       "      <th></th>\n",
       "      <th>id</th>\n",
       "      <th>prompt_id</th>\n",
       "      <th>text</th>\n",
       "      <th>generated</th>\n",
       "    </tr>\n",
       "  </thead>\n",
       "  <tbody>\n",
       "    <tr>\n",
       "      <th>0</th>\n",
       "      <td>e663b2f5</td>\n",
       "      <td>0</td>\n",
       "      <td>The ideal career choice is one that aligns pas...</td>\n",
       "      <td>0</td>\n",
       "    </tr>\n",
       "    <tr>\n",
       "      <th>1</th>\n",
       "      <td>dc1bd601</td>\n",
       "      <td>0</td>\n",
       "      <td>The ideal career choice is one that aligns wit...</td>\n",
       "      <td>0</td>\n",
       "    </tr>\n",
       "    <tr>\n",
       "      <th>2</th>\n",
       "      <td>3f28d007</td>\n",
       "      <td>0</td>\n",
       "      <td>The ideal career choice is one that aligns wit...</td>\n",
       "      <td>0</td>\n",
       "    </tr>\n",
       "    <tr>\n",
       "      <th>3</th>\n",
       "      <td>46232258</td>\n",
       "      <td>0</td>\n",
       "      <td>The ideal career choice is one that aligns wit...</td>\n",
       "      <td>0</td>\n",
       "    </tr>\n",
       "    <tr>\n",
       "      <th>4</th>\n",
       "      <td>f9fff5c6</td>\n",
       "      <td>0</td>\n",
       "      <td>The ideal career choice is one that aligns wit...</td>\n",
       "      <td>0</td>\n",
       "    </tr>\n",
       "  </tbody>\n",
       "</table>\n",
       "</div>"
      ],
      "text/plain": [
       "         id  prompt_id                                               text  \\\n",
       "0  e663b2f5          0  The ideal career choice is one that aligns pas...   \n",
       "1  dc1bd601          0  The ideal career choice is one that aligns wit...   \n",
       "2  3f28d007          0  The ideal career choice is one that aligns wit...   \n",
       "3  46232258          0  The ideal career choice is one that aligns wit...   \n",
       "4  f9fff5c6          0  The ideal career choice is one that aligns wit...   \n",
       "\n",
       "   generated  \n",
       "0          0  \n",
       "1          0  \n",
       "2          0  \n",
       "3          0  \n",
       "4          0  "
      ]
     },
     "execution_count": 2,
     "metadata": {},
     "output_type": "execute_result"
    }
   ],
   "source": [
    "df_train = pd.read_csv('train.csv')\n",
    "df_train.head()"
   ]
  },
  {
   "cell_type": "code",
   "execution_count": 3,
   "metadata": {},
   "outputs": [
    {
     "data": {
      "text/html": [
       "<div>\n",
       "<style scoped>\n",
       "    .dataframe tbody tr th:only-of-type {\n",
       "        vertical-align: middle;\n",
       "    }\n",
       "\n",
       "    .dataframe tbody tr th {\n",
       "        vertical-align: top;\n",
       "    }\n",
       "\n",
       "    .dataframe thead th {\n",
       "        text-align: right;\n",
       "    }\n",
       "</style>\n",
       "<table border=\"1\" class=\"dataframe\">\n",
       "  <thead>\n",
       "    <tr style=\"text-align: right;\">\n",
       "      <th></th>\n",
       "      <th>prompt_id</th>\n",
       "      <th>prompt_name</th>\n",
       "      <th>instructions</th>\n",
       "      <th>source_text</th>\n",
       "    </tr>\n",
       "  </thead>\n",
       "  <tbody>\n",
       "    <tr>\n",
       "      <th>0</th>\n",
       "      <td>0</td>\n",
       "      <td>The Ideal Career Choice</td>\n",
       "      <td>\\nWrite an explanatory essay to inform fellow ...</td>\n",
       "      <td>#How to Choose a Career: 7 Ways to Narrow Your...</td>\n",
       "    </tr>\n",
       "    <tr>\n",
       "      <th>1</th>\n",
       "      <td>1</td>\n",
       "      <td>Bottled water should be banned or not</td>\n",
       "      <td>\\nWrite a letter to the government in which yo...</td>\n",
       "      <td>#Pro and Con: Bottled Water Ban | Britannica\\n...</td>\n",
       "    </tr>\n",
       "  </tbody>\n",
       "</table>\n",
       "</div>"
      ],
      "text/plain": [
       "   prompt_id                            prompt_name  \\\n",
       "0          0                The Ideal Career Choice   \n",
       "1          1  Bottled water should be banned or not   \n",
       "\n",
       "                                        instructions  \\\n",
       "0  \\nWrite an explanatory essay to inform fellow ...   \n",
       "1  \\nWrite a letter to the government in which yo...   \n",
       "\n",
       "                                         source_text  \n",
       "0  #How to Choose a Career: 7 Ways to Narrow Your...  \n",
       "1  #Pro and Con: Bottled Water Ban | Britannica\\n...  "
      ]
     },
     "execution_count": 3,
     "metadata": {},
     "output_type": "execute_result"
    }
   ],
   "source": [
    "df_prompts = pd.read_csv('train_prompts.csv')\n",
    "df_prompts.head()"
   ]
  },
  {
   "cell_type": "code",
   "execution_count": 4,
   "metadata": {},
   "outputs": [
    {
     "data": {
      "text/html": [
       "<div>\n",
       "<style scoped>\n",
       "    .dataframe tbody tr th:only-of-type {\n",
       "        vertical-align: middle;\n",
       "    }\n",
       "\n",
       "    .dataframe tbody tr th {\n",
       "        vertical-align: top;\n",
       "    }\n",
       "\n",
       "    .dataframe thead th {\n",
       "        text-align: right;\n",
       "    }\n",
       "</style>\n",
       "<table border=\"1\" class=\"dataframe\">\n",
       "  <thead>\n",
       "    <tr style=\"text-align: right;\">\n",
       "      <th></th>\n",
       "      <th>id</th>\n",
       "      <th>prompt_id</th>\n",
       "      <th>text</th>\n",
       "    </tr>\n",
       "  </thead>\n",
       "  <tbody>\n",
       "    <tr>\n",
       "      <th>0</th>\n",
       "      <td>63cf09af</td>\n",
       "      <td>0</td>\n",
       "      <td>The ideal career choice is one that aligns wit...</td>\n",
       "    </tr>\n",
       "    <tr>\n",
       "      <th>1</th>\n",
       "      <td>908e398d</td>\n",
       "      <td>0</td>\n",
       "      <td>#Pursuing Passion in Professions \\n The ideal ...</td>\n",
       "    </tr>\n",
       "    <tr>\n",
       "      <th>2</th>\n",
       "      <td>5e281241</td>\n",
       "      <td>0</td>\n",
       "      <td>The ideal career choice is one that aligns wit...</td>\n",
       "    </tr>\n",
       "    <tr>\n",
       "      <th>3</th>\n",
       "      <td>5f57d123</td>\n",
       "      <td>0</td>\n",
       "      <td>#Embracing Diversity in Career Choices \\n Dive...</td>\n",
       "    </tr>\n",
       "    <tr>\n",
       "      <th>4</th>\n",
       "      <td>5bef5435</td>\n",
       "      <td>0</td>\n",
       "      <td>The ideal career choice is one that aligns wit...</td>\n",
       "    </tr>\n",
       "  </tbody>\n",
       "</table>\n",
       "</div>"
      ],
      "text/plain": [
       "         id  prompt_id                                               text\n",
       "0  63cf09af          0  The ideal career choice is one that aligns wit...\n",
       "1  908e398d          0  #Pursuing Passion in Professions \\n The ideal ...\n",
       "2  5e281241          0  The ideal career choice is one that aligns wit...\n",
       "3  5f57d123          0  #Embracing Diversity in Career Choices \\n Dive...\n",
       "4  5bef5435          0  The ideal career choice is one that aligns wit..."
      ]
     },
     "execution_count": 4,
     "metadata": {},
     "output_type": "execute_result"
    }
   ],
   "source": [
    "df_test = pd.read_csv('test.csv')\n",
    "df_test.head()"
   ]
  },
  {
   "cell_type": "code",
   "execution_count": 5,
   "metadata": {},
   "outputs": [
    {
     "data": {
      "text/html": [
       "<div>\n",
       "<style scoped>\n",
       "    .dataframe tbody tr th:only-of-type {\n",
       "        vertical-align: middle;\n",
       "    }\n",
       "\n",
       "    .dataframe tbody tr th {\n",
       "        vertical-align: top;\n",
       "    }\n",
       "\n",
       "    .dataframe thead th {\n",
       "        text-align: right;\n",
       "    }\n",
       "</style>\n",
       "<table border=\"1\" class=\"dataframe\">\n",
       "  <thead>\n",
       "    <tr style=\"text-align: right;\">\n",
       "      <th></th>\n",
       "      <th>generated</th>\n",
       "    </tr>\n",
       "  </thead>\n",
       "  <tbody>\n",
       "    <tr>\n",
       "      <th>0</th>\n",
       "      <td>0</td>\n",
       "    </tr>\n",
       "    <tr>\n",
       "      <th>1</th>\n",
       "      <td>0</td>\n",
       "    </tr>\n",
       "    <tr>\n",
       "      <th>2</th>\n",
       "      <td>0</td>\n",
       "    </tr>\n",
       "    <tr>\n",
       "      <th>3</th>\n",
       "      <td>0</td>\n",
       "    </tr>\n",
       "    <tr>\n",
       "      <th>4</th>\n",
       "      <td>0</td>\n",
       "    </tr>\n",
       "  </tbody>\n",
       "</table>\n",
       "</div>"
      ],
      "text/plain": [
       "   generated\n",
       "0          0\n",
       "1          0\n",
       "2          0\n",
       "3          0\n",
       "4          0"
      ]
     },
     "execution_count": 5,
     "metadata": {},
     "output_type": "execute_result"
    }
   ],
   "source": [
    "df_submission = pd.read_csv('submission.csv')\n",
    "df_submission.head()"
   ]
  },
  {
   "cell_type": "code",
   "execution_count": 6,
   "metadata": {},
   "outputs": [
    {
     "data": {
      "text/html": [
       "<div>\n",
       "<style scoped>\n",
       "    .dataframe tbody tr th:only-of-type {\n",
       "        vertical-align: middle;\n",
       "    }\n",
       "\n",
       "    .dataframe tbody tr th {\n",
       "        vertical-align: top;\n",
       "    }\n",
       "\n",
       "    .dataframe thead th {\n",
       "        text-align: right;\n",
       "    }\n",
       "</style>\n",
       "<table border=\"1\" class=\"dataframe\">\n",
       "  <thead>\n",
       "    <tr style=\"text-align: right;\">\n",
       "      <th></th>\n",
       "      <th>id</th>\n",
       "      <th>prompt_id</th>\n",
       "      <th>text</th>\n",
       "      <th>generated</th>\n",
       "    </tr>\n",
       "  </thead>\n",
       "  <tbody>\n",
       "    <tr>\n",
       "      <th>0</th>\n",
       "      <td>e663b2f5</td>\n",
       "      <td>0</td>\n",
       "      <td>The ideal career choice is one that aligns pas...</td>\n",
       "      <td>0</td>\n",
       "    </tr>\n",
       "    <tr>\n",
       "      <th>1</th>\n",
       "      <td>dc1bd601</td>\n",
       "      <td>0</td>\n",
       "      <td>The ideal career choice is one that aligns wit...</td>\n",
       "      <td>0</td>\n",
       "    </tr>\n",
       "    <tr>\n",
       "      <th>2</th>\n",
       "      <td>3f28d007</td>\n",
       "      <td>0</td>\n",
       "      <td>The ideal career choice is one that aligns wit...</td>\n",
       "      <td>0</td>\n",
       "    </tr>\n",
       "    <tr>\n",
       "      <th>3</th>\n",
       "      <td>46232258</td>\n",
       "      <td>0</td>\n",
       "      <td>The ideal career choice is one that aligns wit...</td>\n",
       "      <td>0</td>\n",
       "    </tr>\n",
       "    <tr>\n",
       "      <th>4</th>\n",
       "      <td>f9fff5c6</td>\n",
       "      <td>0</td>\n",
       "      <td>The ideal career choice is one that aligns wit...</td>\n",
       "      <td>0</td>\n",
       "    </tr>\n",
       "    <tr>\n",
       "      <th>5</th>\n",
       "      <td>b0cb8f89</td>\n",
       "      <td>0</td>\n",
       "      <td>#Adaptability and Career Success \\n In today's...</td>\n",
       "      <td>0</td>\n",
       "    </tr>\n",
       "    <tr>\n",
       "      <th>6</th>\n",
       "      <td>1396fe1a</td>\n",
       "      <td>0</td>\n",
       "      <td>The ideal career choice is one that aligns wit...</td>\n",
       "      <td>0</td>\n",
       "    </tr>\n",
       "    <tr>\n",
       "      <th>7</th>\n",
       "      <td>9e52fa50</td>\n",
       "      <td>0</td>\n",
       "      <td>The ideal career choice is one that ignites a ...</td>\n",
       "      <td>0</td>\n",
       "    </tr>\n",
       "    <tr>\n",
       "      <th>8</th>\n",
       "      <td>18bf0fda</td>\n",
       "      <td>0</td>\n",
       "      <td>#Impact-Oriented Careers \\n An ideal career ch...</td>\n",
       "      <td>0</td>\n",
       "    </tr>\n",
       "    <tr>\n",
       "      <th>9</th>\n",
       "      <td>07905282</td>\n",
       "      <td>0</td>\n",
       "      <td>The ideal career choice is one that ignites pa...</td>\n",
       "      <td>0</td>\n",
       "    </tr>\n",
       "    <tr>\n",
       "      <th>10</th>\n",
       "      <td>cd3ceb00</td>\n",
       "      <td>0</td>\n",
       "      <td>The ideal career choice is one that aligns wit...</td>\n",
       "      <td>0</td>\n",
       "    </tr>\n",
       "    <tr>\n",
       "      <th>11</th>\n",
       "      <td>902bcb9c</td>\n",
       "      <td>0</td>\n",
       "      <td>The ideal career choice differs from person to...</td>\n",
       "      <td>0</td>\n",
       "    </tr>\n",
       "    <tr>\n",
       "      <th>12</th>\n",
       "      <td>1ca80b13</td>\n",
       "      <td>0</td>\n",
       "      <td>#Cultural Diversity and Career Preferences \\n ...</td>\n",
       "      <td>0</td>\n",
       "    </tr>\n",
       "    <tr>\n",
       "      <th>13</th>\n",
       "      <td>1479ff63</td>\n",
       "      <td>0</td>\n",
       "      <td>The ideal career choice is one that aligns wit...</td>\n",
       "      <td>0</td>\n",
       "    </tr>\n",
       "    <tr>\n",
       "      <th>14</th>\n",
       "      <td>5cc22ce4</td>\n",
       "      <td>0</td>\n",
       "      <td>#Career Development in Generation X -    Caree...</td>\n",
       "      <td>1</td>\n",
       "    </tr>\n",
       "    <tr>\n",
       "      <th>15</th>\n",
       "      <td>d8ddd57d</td>\n",
       "      <td>0</td>\n",
       "      <td>#Career Decision-Making in Business Administra...</td>\n",
       "      <td>1</td>\n",
       "    </tr>\n",
       "    <tr>\n",
       "      <th>16</th>\n",
       "      <td>878f041c</td>\n",
       "      <td>0</td>\n",
       "      <td>#What Are the Career Doldrums? -    What Are t...</td>\n",
       "      <td>1</td>\n",
       "    </tr>\n",
       "    <tr>\n",
       "      <th>17</th>\n",
       "      <td>7891a05a</td>\n",
       "      <td>0</td>\n",
       "      <td>#Reflective Essay on Choosing Career Choice - ...</td>\n",
       "      <td>1</td>\n",
       "    </tr>\n",
       "    <tr>\n",
       "      <th>18</th>\n",
       "      <td>d448fa01</td>\n",
       "      <td>0</td>\n",
       "      <td>#Servant Leadership Analysis   EssayWriterThe ...</td>\n",
       "      <td>1</td>\n",
       "    </tr>\n",
       "    <tr>\n",
       "      <th>19</th>\n",
       "      <td>2ceccbf7</td>\n",
       "      <td>0</td>\n",
       "      <td>#Closing the College-Career Gap -   Critical W...</td>\n",
       "      <td>1</td>\n",
       "    </tr>\n",
       "  </tbody>\n",
       "</table>\n",
       "</div>"
      ],
      "text/plain": [
       "          id  prompt_id                                               text  \\\n",
       "0   e663b2f5          0  The ideal career choice is one that aligns pas...   \n",
       "1   dc1bd601          0  The ideal career choice is one that aligns wit...   \n",
       "2   3f28d007          0  The ideal career choice is one that aligns wit...   \n",
       "3   46232258          0  The ideal career choice is one that aligns wit...   \n",
       "4   f9fff5c6          0  The ideal career choice is one that aligns wit...   \n",
       "5   b0cb8f89          0  #Adaptability and Career Success \\n In today's...   \n",
       "6   1396fe1a          0  The ideal career choice is one that aligns wit...   \n",
       "7   9e52fa50          0  The ideal career choice is one that ignites a ...   \n",
       "8   18bf0fda          0  #Impact-Oriented Careers \\n An ideal career ch...   \n",
       "9   07905282          0  The ideal career choice is one that ignites pa...   \n",
       "10  cd3ceb00          0  The ideal career choice is one that aligns wit...   \n",
       "11  902bcb9c          0  The ideal career choice differs from person to...   \n",
       "12  1ca80b13          0  #Cultural Diversity and Career Preferences \\n ...   \n",
       "13  1479ff63          0  The ideal career choice is one that aligns wit...   \n",
       "14  5cc22ce4          0  #Career Development in Generation X -    Caree...   \n",
       "15  d8ddd57d          0  #Career Decision-Making in Business Administra...   \n",
       "16  878f041c          0  #What Are the Career Doldrums? -    What Are t...   \n",
       "17  7891a05a          0  #Reflective Essay on Choosing Career Choice - ...   \n",
       "18  d448fa01          0  #Servant Leadership Analysis   EssayWriterThe ...   \n",
       "19  2ceccbf7          0  #Closing the College-Career Gap -   Critical W...   \n",
       "\n",
       "    generated  \n",
       "0           0  \n",
       "1           0  \n",
       "2           0  \n",
       "3           0  \n",
       "4           0  \n",
       "5           0  \n",
       "6           0  \n",
       "7           0  \n",
       "8           0  \n",
       "9           0  \n",
       "10          0  \n",
       "11          0  \n",
       "12          0  \n",
       "13          0  \n",
       "14          1  \n",
       "15          1  \n",
       "16          1  \n",
       "17          1  \n",
       "18          1  \n",
       "19          1  "
      ]
     },
     "execution_count": 6,
     "metadata": {},
     "output_type": "execute_result"
    }
   ],
   "source": [
    "df_train.head(20)"
   ]
  },
  {
   "cell_type": "code",
   "execution_count": 18,
   "metadata": {},
   "outputs": [],
   "source": [
    "import pandas as pd\n",
    "from sklearn.model_selection import train_test_split\n",
    "from sklearn.feature_extraction.text import TfidfVectorizer\n",
    "from sklearn.ensemble import RandomForestClassifier  # Example model\n",
    "import google.generativeai as genai\n",
    "import os\n",
    "import re\n",
    "import string"
   ]
  },
  {
   "cell_type": "code",
   "execution_count": 19,
   "metadata": {},
   "outputs": [],
   "source": [
    "os.environ['GOOGLE_API_KEY'] = \"\"\n",
    "genai.configure(api_key = os.getenv('GOOGLE_API_KEY'))"
   ]
  },
  {
   "cell_type": "code",
   "execution_count": 20,
   "metadata": {},
   "outputs": [
    {
     "name": "stdout",
     "output_type": "stream",
     "text": [
      "models/gemini-pro\n",
      "models/gemini-pro-vision\n"
     ]
    }
   ],
   "source": [
    "for m in genai.list_models():\n",
    "    if 'generateContent' in m.supported_generation_methods:\n",
    "        print(m.name)"
   ]
  },
  {
   "cell_type": "code",
   "execution_count": 119,
   "metadata": {},
   "outputs": [],
   "source": [
    "train_data = pd.read_csv('train.csv')\n",
    "train_prompts = pd.read_csv('train_prompts.csv')\n",
    "train_data = train_data.merge(train_prompts, on=\"prompt_id\")"
   ]
  },
  {
   "cell_type": "code",
   "execution_count": 120,
   "metadata": {},
   "outputs": [],
   "source": [
    "test_data = pd.read_csv('test.csv')\n",
    "test_data = test_data.merge(train_prompts, on=\"prompt_id\")"
   ]
  },
  {
   "cell_type": "code",
   "execution_count": 121,
   "metadata": {},
   "outputs": [
    {
     "data": {
      "text/html": [
       "<div>\n",
       "<style scoped>\n",
       "    .dataframe tbody tr th:only-of-type {\n",
       "        vertical-align: middle;\n",
       "    }\n",
       "\n",
       "    .dataframe tbody tr th {\n",
       "        vertical-align: top;\n",
       "    }\n",
       "\n",
       "    .dataframe thead th {\n",
       "        text-align: right;\n",
       "    }\n",
       "</style>\n",
       "<table border=\"1\" class=\"dataframe\">\n",
       "  <thead>\n",
       "    <tr style=\"text-align: right;\">\n",
       "      <th></th>\n",
       "      <th>id</th>\n",
       "      <th>prompt_id</th>\n",
       "      <th>text</th>\n",
       "      <th>generated</th>\n",
       "      <th>prompt_name</th>\n",
       "      <th>instructions</th>\n",
       "      <th>source_text</th>\n",
       "    </tr>\n",
       "  </thead>\n",
       "  <tbody>\n",
       "    <tr>\n",
       "      <th>0</th>\n",
       "      <td>e663b2f5</td>\n",
       "      <td>0</td>\n",
       "      <td>The ideal career choice is one that aligns pas...</td>\n",
       "      <td>0</td>\n",
       "      <td>The Ideal Career Choice</td>\n",
       "      <td>\\nWrite an explanatory essay to inform fellow ...</td>\n",
       "      <td>#How to Choose a Career: 7 Ways to Narrow Your...</td>\n",
       "    </tr>\n",
       "    <tr>\n",
       "      <th>1</th>\n",
       "      <td>dc1bd601</td>\n",
       "      <td>0</td>\n",
       "      <td>The ideal career choice is one that aligns wit...</td>\n",
       "      <td>0</td>\n",
       "      <td>The Ideal Career Choice</td>\n",
       "      <td>\\nWrite an explanatory essay to inform fellow ...</td>\n",
       "      <td>#How to Choose a Career: 7 Ways to Narrow Your...</td>\n",
       "    </tr>\n",
       "    <tr>\n",
       "      <th>2</th>\n",
       "      <td>3f28d007</td>\n",
       "      <td>0</td>\n",
       "      <td>The ideal career choice is one that aligns wit...</td>\n",
       "      <td>0</td>\n",
       "      <td>The Ideal Career Choice</td>\n",
       "      <td>\\nWrite an explanatory essay to inform fellow ...</td>\n",
       "      <td>#How to Choose a Career: 7 Ways to Narrow Your...</td>\n",
       "    </tr>\n",
       "    <tr>\n",
       "      <th>3</th>\n",
       "      <td>46232258</td>\n",
       "      <td>0</td>\n",
       "      <td>The ideal career choice is one that aligns wit...</td>\n",
       "      <td>0</td>\n",
       "      <td>The Ideal Career Choice</td>\n",
       "      <td>\\nWrite an explanatory essay to inform fellow ...</td>\n",
       "      <td>#How to Choose a Career: 7 Ways to Narrow Your...</td>\n",
       "    </tr>\n",
       "    <tr>\n",
       "      <th>4</th>\n",
       "      <td>f9fff5c6</td>\n",
       "      <td>0</td>\n",
       "      <td>The ideal career choice is one that aligns wit...</td>\n",
       "      <td>0</td>\n",
       "      <td>The Ideal Career Choice</td>\n",
       "      <td>\\nWrite an explanatory essay to inform fellow ...</td>\n",
       "      <td>#How to Choose a Career: 7 Ways to Narrow Your...</td>\n",
       "    </tr>\n",
       "  </tbody>\n",
       "</table>\n",
       "</div>"
      ],
      "text/plain": [
       "         id  prompt_id                                               text  \\\n",
       "0  e663b2f5          0  The ideal career choice is one that aligns pas...   \n",
       "1  dc1bd601          0  The ideal career choice is one that aligns wit...   \n",
       "2  3f28d007          0  The ideal career choice is one that aligns wit...   \n",
       "3  46232258          0  The ideal career choice is one that aligns wit...   \n",
       "4  f9fff5c6          0  The ideal career choice is one that aligns wit...   \n",
       "\n",
       "   generated              prompt_name  \\\n",
       "0          0  The Ideal Career Choice   \n",
       "1          0  The Ideal Career Choice   \n",
       "2          0  The Ideal Career Choice   \n",
       "3          0  The Ideal Career Choice   \n",
       "4          0  The Ideal Career Choice   \n",
       "\n",
       "                                        instructions  \\\n",
       "0  \\nWrite an explanatory essay to inform fellow ...   \n",
       "1  \\nWrite an explanatory essay to inform fellow ...   \n",
       "2  \\nWrite an explanatory essay to inform fellow ...   \n",
       "3  \\nWrite an explanatory essay to inform fellow ...   \n",
       "4  \\nWrite an explanatory essay to inform fellow ...   \n",
       "\n",
       "                                         source_text  \n",
       "0  #How to Choose a Career: 7 Ways to Narrow Your...  \n",
       "1  #How to Choose a Career: 7 Ways to Narrow Your...  \n",
       "2  #How to Choose a Career: 7 Ways to Narrow Your...  \n",
       "3  #How to Choose a Career: 7 Ways to Narrow Your...  \n",
       "4  #How to Choose a Career: 7 Ways to Narrow Your...  "
      ]
     },
     "execution_count": 121,
     "metadata": {},
     "output_type": "execute_result"
    }
   ],
   "source": [
    "train_data.head()"
   ]
  },
  {
   "cell_type": "code",
   "execution_count": 122,
   "metadata": {},
   "outputs": [
    {
     "data": {
      "text/html": [
       "<div>\n",
       "<style scoped>\n",
       "    .dataframe tbody tr th:only-of-type {\n",
       "        vertical-align: middle;\n",
       "    }\n",
       "\n",
       "    .dataframe tbody tr th {\n",
       "        vertical-align: top;\n",
       "    }\n",
       "\n",
       "    .dataframe thead th {\n",
       "        text-align: right;\n",
       "    }\n",
       "</style>\n",
       "<table border=\"1\" class=\"dataframe\">\n",
       "  <thead>\n",
       "    <tr style=\"text-align: right;\">\n",
       "      <th></th>\n",
       "      <th>id</th>\n",
       "      <th>prompt_id</th>\n",
       "      <th>text</th>\n",
       "      <th>prompt_name</th>\n",
       "      <th>instructions</th>\n",
       "      <th>source_text</th>\n",
       "    </tr>\n",
       "  </thead>\n",
       "  <tbody>\n",
       "    <tr>\n",
       "      <th>0</th>\n",
       "      <td>63cf09af</td>\n",
       "      <td>0</td>\n",
       "      <td>The ideal career choice is one that aligns wit...</td>\n",
       "      <td>The Ideal Career Choice</td>\n",
       "      <td>\\nWrite an explanatory essay to inform fellow ...</td>\n",
       "      <td>#How to Choose a Career: 7 Ways to Narrow Your...</td>\n",
       "    </tr>\n",
       "    <tr>\n",
       "      <th>1</th>\n",
       "      <td>908e398d</td>\n",
       "      <td>0</td>\n",
       "      <td>#Pursuing Passion in Professions \\n The ideal ...</td>\n",
       "      <td>The Ideal Career Choice</td>\n",
       "      <td>\\nWrite an explanatory essay to inform fellow ...</td>\n",
       "      <td>#How to Choose a Career: 7 Ways to Narrow Your...</td>\n",
       "    </tr>\n",
       "    <tr>\n",
       "      <th>2</th>\n",
       "      <td>5e281241</td>\n",
       "      <td>0</td>\n",
       "      <td>The ideal career choice is one that aligns wit...</td>\n",
       "      <td>The Ideal Career Choice</td>\n",
       "      <td>\\nWrite an explanatory essay to inform fellow ...</td>\n",
       "      <td>#How to Choose a Career: 7 Ways to Narrow Your...</td>\n",
       "    </tr>\n",
       "    <tr>\n",
       "      <th>3</th>\n",
       "      <td>5f57d123</td>\n",
       "      <td>0</td>\n",
       "      <td>#Embracing Diversity in Career Choices \\n Dive...</td>\n",
       "      <td>The Ideal Career Choice</td>\n",
       "      <td>\\nWrite an explanatory essay to inform fellow ...</td>\n",
       "      <td>#How to Choose a Career: 7 Ways to Narrow Your...</td>\n",
       "    </tr>\n",
       "    <tr>\n",
       "      <th>4</th>\n",
       "      <td>5bef5435</td>\n",
       "      <td>0</td>\n",
       "      <td>The ideal career choice is one that aligns wit...</td>\n",
       "      <td>The Ideal Career Choice</td>\n",
       "      <td>\\nWrite an explanatory essay to inform fellow ...</td>\n",
       "      <td>#How to Choose a Career: 7 Ways to Narrow Your...</td>\n",
       "    </tr>\n",
       "  </tbody>\n",
       "</table>\n",
       "</div>"
      ],
      "text/plain": [
       "         id  prompt_id                                               text  \\\n",
       "0  63cf09af          0  The ideal career choice is one that aligns wit...   \n",
       "1  908e398d          0  #Pursuing Passion in Professions \\n The ideal ...   \n",
       "2  5e281241          0  The ideal career choice is one that aligns wit...   \n",
       "3  5f57d123          0  #Embracing Diversity in Career Choices \\n Dive...   \n",
       "4  5bef5435          0  The ideal career choice is one that aligns wit...   \n",
       "\n",
       "               prompt_name                                       instructions  \\\n",
       "0  The Ideal Career Choice  \\nWrite an explanatory essay to inform fellow ...   \n",
       "1  The Ideal Career Choice  \\nWrite an explanatory essay to inform fellow ...   \n",
       "2  The Ideal Career Choice  \\nWrite an explanatory essay to inform fellow ...   \n",
       "3  The Ideal Career Choice  \\nWrite an explanatory essay to inform fellow ...   \n",
       "4  The Ideal Career Choice  \\nWrite an explanatory essay to inform fellow ...   \n",
       "\n",
       "                                         source_text  \n",
       "0  #How to Choose a Career: 7 Ways to Narrow Your...  \n",
       "1  #How to Choose a Career: 7 Ways to Narrow Your...  \n",
       "2  #How to Choose a Career: 7 Ways to Narrow Your...  \n",
       "3  #How to Choose a Career: 7 Ways to Narrow Your...  \n",
       "4  #How to Choose a Career: 7 Ways to Narrow Your...  "
      ]
     },
     "execution_count": 122,
     "metadata": {},
     "output_type": "execute_result"
    }
   ],
   "source": [
    "test_data.head()"
   ]
  },
  {
   "cell_type": "code",
   "execution_count": 123,
   "metadata": {},
   "outputs": [],
   "source": [
    "train_data['combined_text'] = train_data[['text', 'prompt_name', 'instructions', 'source_text']].apply(lambda x: ' '.join(x.astype(str)), axis=1)"
   ]
  },
  {
   "cell_type": "code",
   "execution_count": 124,
   "metadata": {},
   "outputs": [
    {
     "data": {
      "text/html": [
       "<div>\n",
       "<style scoped>\n",
       "    .dataframe tbody tr th:only-of-type {\n",
       "        vertical-align: middle;\n",
       "    }\n",
       "\n",
       "    .dataframe tbody tr th {\n",
       "        vertical-align: top;\n",
       "    }\n",
       "\n",
       "    .dataframe thead th {\n",
       "        text-align: right;\n",
       "    }\n",
       "</style>\n",
       "<table border=\"1\" class=\"dataframe\">\n",
       "  <thead>\n",
       "    <tr style=\"text-align: right;\">\n",
       "      <th></th>\n",
       "      <th>id</th>\n",
       "      <th>prompt_id</th>\n",
       "      <th>text</th>\n",
       "      <th>generated</th>\n",
       "      <th>prompt_name</th>\n",
       "      <th>instructions</th>\n",
       "      <th>source_text</th>\n",
       "      <th>combined_text</th>\n",
       "    </tr>\n",
       "  </thead>\n",
       "  <tbody>\n",
       "    <tr>\n",
       "      <th>0</th>\n",
       "      <td>e663b2f5</td>\n",
       "      <td>0</td>\n",
       "      <td>The ideal career choice is one that aligns pas...</td>\n",
       "      <td>0</td>\n",
       "      <td>The Ideal Career Choice</td>\n",
       "      <td>\\nWrite an explanatory essay to inform fellow ...</td>\n",
       "      <td>#How to Choose a Career: 7 Ways to Narrow Your...</td>\n",
       "      <td>The ideal career choice is one that aligns pas...</td>\n",
       "    </tr>\n",
       "    <tr>\n",
       "      <th>1</th>\n",
       "      <td>dc1bd601</td>\n",
       "      <td>0</td>\n",
       "      <td>The ideal career choice is one that aligns wit...</td>\n",
       "      <td>0</td>\n",
       "      <td>The Ideal Career Choice</td>\n",
       "      <td>\\nWrite an explanatory essay to inform fellow ...</td>\n",
       "      <td>#How to Choose a Career: 7 Ways to Narrow Your...</td>\n",
       "      <td>The ideal career choice is one that aligns wit...</td>\n",
       "    </tr>\n",
       "    <tr>\n",
       "      <th>2</th>\n",
       "      <td>3f28d007</td>\n",
       "      <td>0</td>\n",
       "      <td>The ideal career choice is one that aligns wit...</td>\n",
       "      <td>0</td>\n",
       "      <td>The Ideal Career Choice</td>\n",
       "      <td>\\nWrite an explanatory essay to inform fellow ...</td>\n",
       "      <td>#How to Choose a Career: 7 Ways to Narrow Your...</td>\n",
       "      <td>The ideal career choice is one that aligns wit...</td>\n",
       "    </tr>\n",
       "    <tr>\n",
       "      <th>3</th>\n",
       "      <td>46232258</td>\n",
       "      <td>0</td>\n",
       "      <td>The ideal career choice is one that aligns wit...</td>\n",
       "      <td>0</td>\n",
       "      <td>The Ideal Career Choice</td>\n",
       "      <td>\\nWrite an explanatory essay to inform fellow ...</td>\n",
       "      <td>#How to Choose a Career: 7 Ways to Narrow Your...</td>\n",
       "      <td>The ideal career choice is one that aligns wit...</td>\n",
       "    </tr>\n",
       "    <tr>\n",
       "      <th>4</th>\n",
       "      <td>f9fff5c6</td>\n",
       "      <td>0</td>\n",
       "      <td>The ideal career choice is one that aligns wit...</td>\n",
       "      <td>0</td>\n",
       "      <td>The Ideal Career Choice</td>\n",
       "      <td>\\nWrite an explanatory essay to inform fellow ...</td>\n",
       "      <td>#How to Choose a Career: 7 Ways to Narrow Your...</td>\n",
       "      <td>The ideal career choice is one that aligns wit...</td>\n",
       "    </tr>\n",
       "  </tbody>\n",
       "</table>\n",
       "</div>"
      ],
      "text/plain": [
       "         id  prompt_id                                               text  \\\n",
       "0  e663b2f5          0  The ideal career choice is one that aligns pas...   \n",
       "1  dc1bd601          0  The ideal career choice is one that aligns wit...   \n",
       "2  3f28d007          0  The ideal career choice is one that aligns wit...   \n",
       "3  46232258          0  The ideal career choice is one that aligns wit...   \n",
       "4  f9fff5c6          0  The ideal career choice is one that aligns wit...   \n",
       "\n",
       "   generated              prompt_name  \\\n",
       "0          0  The Ideal Career Choice   \n",
       "1          0  The Ideal Career Choice   \n",
       "2          0  The Ideal Career Choice   \n",
       "3          0  The Ideal Career Choice   \n",
       "4          0  The Ideal Career Choice   \n",
       "\n",
       "                                        instructions  \\\n",
       "0  \\nWrite an explanatory essay to inform fellow ...   \n",
       "1  \\nWrite an explanatory essay to inform fellow ...   \n",
       "2  \\nWrite an explanatory essay to inform fellow ...   \n",
       "3  \\nWrite an explanatory essay to inform fellow ...   \n",
       "4  \\nWrite an explanatory essay to inform fellow ...   \n",
       "\n",
       "                                         source_text  \\\n",
       "0  #How to Choose a Career: 7 Ways to Narrow Your...   \n",
       "1  #How to Choose a Career: 7 Ways to Narrow Your...   \n",
       "2  #How to Choose a Career: 7 Ways to Narrow Your...   \n",
       "3  #How to Choose a Career: 7 Ways to Narrow Your...   \n",
       "4  #How to Choose a Career: 7 Ways to Narrow Your...   \n",
       "\n",
       "                                       combined_text  \n",
       "0  The ideal career choice is one that aligns pas...  \n",
       "1  The ideal career choice is one that aligns wit...  \n",
       "2  The ideal career choice is one that aligns wit...  \n",
       "3  The ideal career choice is one that aligns wit...  \n",
       "4  The ideal career choice is one that aligns wit...  "
      ]
     },
     "execution_count": 124,
     "metadata": {},
     "output_type": "execute_result"
    }
   ],
   "source": [
    "train_data.head()"
   ]
  },
  {
   "cell_type": "code",
   "execution_count": 125,
   "metadata": {},
   "outputs": [],
   "source": [
    "test_data['combined_text'] = test_data[['text', 'prompt_name', 'instructions', 'source_text']].apply(lambda x: ' '.join(x.astype(str)), axis=1)"
   ]
  },
  {
   "cell_type": "code",
   "execution_count": 126,
   "metadata": {},
   "outputs": [
    {
     "data": {
      "text/html": [
       "<div>\n",
       "<style scoped>\n",
       "    .dataframe tbody tr th:only-of-type {\n",
       "        vertical-align: middle;\n",
       "    }\n",
       "\n",
       "    .dataframe tbody tr th {\n",
       "        vertical-align: top;\n",
       "    }\n",
       "\n",
       "    .dataframe thead th {\n",
       "        text-align: right;\n",
       "    }\n",
       "</style>\n",
       "<table border=\"1\" class=\"dataframe\">\n",
       "  <thead>\n",
       "    <tr style=\"text-align: right;\">\n",
       "      <th></th>\n",
       "      <th>id</th>\n",
       "      <th>prompt_id</th>\n",
       "      <th>text</th>\n",
       "      <th>prompt_name</th>\n",
       "      <th>instructions</th>\n",
       "      <th>source_text</th>\n",
       "      <th>combined_text</th>\n",
       "    </tr>\n",
       "  </thead>\n",
       "  <tbody>\n",
       "    <tr>\n",
       "      <th>0</th>\n",
       "      <td>63cf09af</td>\n",
       "      <td>0</td>\n",
       "      <td>The ideal career choice is one that aligns wit...</td>\n",
       "      <td>The Ideal Career Choice</td>\n",
       "      <td>\\nWrite an explanatory essay to inform fellow ...</td>\n",
       "      <td>#How to Choose a Career: 7 Ways to Narrow Your...</td>\n",
       "      <td>The ideal career choice is one that aligns wit...</td>\n",
       "    </tr>\n",
       "    <tr>\n",
       "      <th>1</th>\n",
       "      <td>908e398d</td>\n",
       "      <td>0</td>\n",
       "      <td>#Pursuing Passion in Professions \\n The ideal ...</td>\n",
       "      <td>The Ideal Career Choice</td>\n",
       "      <td>\\nWrite an explanatory essay to inform fellow ...</td>\n",
       "      <td>#How to Choose a Career: 7 Ways to Narrow Your...</td>\n",
       "      <td>#Pursuing Passion in Professions \\n The ideal ...</td>\n",
       "    </tr>\n",
       "    <tr>\n",
       "      <th>2</th>\n",
       "      <td>5e281241</td>\n",
       "      <td>0</td>\n",
       "      <td>The ideal career choice is one that aligns wit...</td>\n",
       "      <td>The Ideal Career Choice</td>\n",
       "      <td>\\nWrite an explanatory essay to inform fellow ...</td>\n",
       "      <td>#How to Choose a Career: 7 Ways to Narrow Your...</td>\n",
       "      <td>The ideal career choice is one that aligns wit...</td>\n",
       "    </tr>\n",
       "    <tr>\n",
       "      <th>3</th>\n",
       "      <td>5f57d123</td>\n",
       "      <td>0</td>\n",
       "      <td>#Embracing Diversity in Career Choices \\n Dive...</td>\n",
       "      <td>The Ideal Career Choice</td>\n",
       "      <td>\\nWrite an explanatory essay to inform fellow ...</td>\n",
       "      <td>#How to Choose a Career: 7 Ways to Narrow Your...</td>\n",
       "      <td>#Embracing Diversity in Career Choices \\n Dive...</td>\n",
       "    </tr>\n",
       "    <tr>\n",
       "      <th>4</th>\n",
       "      <td>5bef5435</td>\n",
       "      <td>0</td>\n",
       "      <td>The ideal career choice is one that aligns wit...</td>\n",
       "      <td>The Ideal Career Choice</td>\n",
       "      <td>\\nWrite an explanatory essay to inform fellow ...</td>\n",
       "      <td>#How to Choose a Career: 7 Ways to Narrow Your...</td>\n",
       "      <td>The ideal career choice is one that aligns wit...</td>\n",
       "    </tr>\n",
       "  </tbody>\n",
       "</table>\n",
       "</div>"
      ],
      "text/plain": [
       "         id  prompt_id                                               text  \\\n",
       "0  63cf09af          0  The ideal career choice is one that aligns wit...   \n",
       "1  908e398d          0  #Pursuing Passion in Professions \\n The ideal ...   \n",
       "2  5e281241          0  The ideal career choice is one that aligns wit...   \n",
       "3  5f57d123          0  #Embracing Diversity in Career Choices \\n Dive...   \n",
       "4  5bef5435          0  The ideal career choice is one that aligns wit...   \n",
       "\n",
       "               prompt_name                                       instructions  \\\n",
       "0  The Ideal Career Choice  \\nWrite an explanatory essay to inform fellow ...   \n",
       "1  The Ideal Career Choice  \\nWrite an explanatory essay to inform fellow ...   \n",
       "2  The Ideal Career Choice  \\nWrite an explanatory essay to inform fellow ...   \n",
       "3  The Ideal Career Choice  \\nWrite an explanatory essay to inform fellow ...   \n",
       "4  The Ideal Career Choice  \\nWrite an explanatory essay to inform fellow ...   \n",
       "\n",
       "                                         source_text  \\\n",
       "0  #How to Choose a Career: 7 Ways to Narrow Your...   \n",
       "1  #How to Choose a Career: 7 Ways to Narrow Your...   \n",
       "2  #How to Choose a Career: 7 Ways to Narrow Your...   \n",
       "3  #How to Choose a Career: 7 Ways to Narrow Your...   \n",
       "4  #How to Choose a Career: 7 Ways to Narrow Your...   \n",
       "\n",
       "                                       combined_text  \n",
       "0  The ideal career choice is one that aligns wit...  \n",
       "1  #Pursuing Passion in Professions \\n The ideal ...  \n",
       "2  The ideal career choice is one that aligns wit...  \n",
       "3  #Embracing Diversity in Career Choices \\n Dive...  \n",
       "4  The ideal career choice is one that aligns wit...  "
      ]
     },
     "execution_count": 126,
     "metadata": {},
     "output_type": "execute_result"
    }
   ],
   "source": [
    "test_data.head()"
   ]
  },
  {
   "cell_type": "code",
   "execution_count": 23,
   "metadata": {},
   "outputs": [],
   "source": [
    "def preprocess_text(text):\n",
    "    text = text.lower()\n",
    "    text = re.sub(r\"[^\\w\\s]\", \"\", text)\n",
    "    text = re.sub(r\"\\d+\", \"\", text)\n",
    "    tokens = text.split()\n",
    "    processed_text = \" \".join(tokens)\n",
    "    return processed_text"
   ]
  },
  {
   "cell_type": "code",
   "execution_count": 127,
   "metadata": {},
   "outputs": [],
   "source": [
    "train_data[\"combined_text\"] = train_data[\"combined_text\"].apply(preprocess_text)"
   ]
  },
  {
   "cell_type": "code",
   "execution_count": 128,
   "metadata": {},
   "outputs": [],
   "source": [
    "test_data[\"combined_text\"] = test_data[\"combined_text\"].apply(preprocess_text)"
   ]
  },
  {
   "cell_type": "code",
   "execution_count": 129,
   "metadata": {},
   "outputs": [],
   "source": [
    "from langchain_google_genai import GoogleGenerativeAIEmbeddings\n",
    "def extract_gemini_embeddings(text):\n",
    "    embeddings = GoogleGenerativeAIEmbeddings(model=\"models/embedding-001\",task_type=\"classification\")\n",
    "    vector = embeddings.embed_query(text)# Adjust prompt and parameters as needed\n",
    "    return vector"
   ]
  },
  {
   "cell_type": "code",
   "execution_count": 130,
   "metadata": {},
   "outputs": [],
   "source": [
    "train_data[\"gemini_embeddings\"] = train_data[\"combined_text\"].apply(extract_gemini_embeddings)"
   ]
  },
  {
   "cell_type": "code",
   "execution_count": 135,
   "metadata": {},
   "outputs": [],
   "source": [
    "test_data[\"gemini_embeddings\"] = test_data[\"combined_text\"].apply(extract_gemini_embeddings)"
   ]
  },
  {
   "cell_type": "code",
   "execution_count": 131,
   "metadata": {},
   "outputs": [
    {
     "data": {
      "text/html": [
       "<div>\n",
       "<style scoped>\n",
       "    .dataframe tbody tr th:only-of-type {\n",
       "        vertical-align: middle;\n",
       "    }\n",
       "\n",
       "    .dataframe tbody tr th {\n",
       "        vertical-align: top;\n",
       "    }\n",
       "\n",
       "    .dataframe thead th {\n",
       "        text-align: right;\n",
       "    }\n",
       "</style>\n",
       "<table border=\"1\" class=\"dataframe\">\n",
       "  <thead>\n",
       "    <tr style=\"text-align: right;\">\n",
       "      <th></th>\n",
       "      <th>id</th>\n",
       "      <th>prompt_id</th>\n",
       "      <th>text</th>\n",
       "      <th>generated</th>\n",
       "      <th>prompt_name</th>\n",
       "      <th>instructions</th>\n",
       "      <th>source_text</th>\n",
       "      <th>combined_text</th>\n",
       "      <th>gemini_embeddings</th>\n",
       "    </tr>\n",
       "  </thead>\n",
       "  <tbody>\n",
       "    <tr>\n",
       "      <th>0</th>\n",
       "      <td>e663b2f5</td>\n",
       "      <td>0</td>\n",
       "      <td>The ideal career choice is one that aligns pas...</td>\n",
       "      <td>0</td>\n",
       "      <td>The Ideal Career Choice</td>\n",
       "      <td>\\nWrite an explanatory essay to inform fellow ...</td>\n",
       "      <td>#How to Choose a Career: 7 Ways to Narrow Your...</td>\n",
       "      <td>the ideal career choice is one that aligns pas...</td>\n",
       "      <td>[0.020818021, -0.071440294, -0.020338288, 0.00...</td>\n",
       "    </tr>\n",
       "    <tr>\n",
       "      <th>1</th>\n",
       "      <td>dc1bd601</td>\n",
       "      <td>0</td>\n",
       "      <td>The ideal career choice is one that aligns wit...</td>\n",
       "      <td>0</td>\n",
       "      <td>The Ideal Career Choice</td>\n",
       "      <td>\\nWrite an explanatory essay to inform fellow ...</td>\n",
       "      <td>#How to Choose a Career: 7 Ways to Narrow Your...</td>\n",
       "      <td>the ideal career choice is one that aligns wit...</td>\n",
       "      <td>[0.017830085, -0.069388986, -0.020331088, 0.00...</td>\n",
       "    </tr>\n",
       "    <tr>\n",
       "      <th>2</th>\n",
       "      <td>3f28d007</td>\n",
       "      <td>0</td>\n",
       "      <td>The ideal career choice is one that aligns wit...</td>\n",
       "      <td>0</td>\n",
       "      <td>The Ideal Career Choice</td>\n",
       "      <td>\\nWrite an explanatory essay to inform fellow ...</td>\n",
       "      <td>#How to Choose a Career: 7 Ways to Narrow Your...</td>\n",
       "      <td>the ideal career choice is one that aligns wit...</td>\n",
       "      <td>[0.020024931, -0.06938759, -0.021297045, 0.003...</td>\n",
       "    </tr>\n",
       "    <tr>\n",
       "      <th>3</th>\n",
       "      <td>46232258</td>\n",
       "      <td>0</td>\n",
       "      <td>The ideal career choice is one that aligns wit...</td>\n",
       "      <td>0</td>\n",
       "      <td>The Ideal Career Choice</td>\n",
       "      <td>\\nWrite an explanatory essay to inform fellow ...</td>\n",
       "      <td>#How to Choose a Career: 7 Ways to Narrow Your...</td>\n",
       "      <td>the ideal career choice is one that aligns wit...</td>\n",
       "      <td>[0.019194758, -0.0708801, -0.021809917, 0.0043...</td>\n",
       "    </tr>\n",
       "    <tr>\n",
       "      <th>4</th>\n",
       "      <td>f9fff5c6</td>\n",
       "      <td>0</td>\n",
       "      <td>The ideal career choice is one that aligns wit...</td>\n",
       "      <td>0</td>\n",
       "      <td>The Ideal Career Choice</td>\n",
       "      <td>\\nWrite an explanatory essay to inform fellow ...</td>\n",
       "      <td>#How to Choose a Career: 7 Ways to Narrow Your...</td>\n",
       "      <td>the ideal career choice is one that aligns wit...</td>\n",
       "      <td>[0.018189473, -0.072291344, -0.018864194, 0.00...</td>\n",
       "    </tr>\n",
       "  </tbody>\n",
       "</table>\n",
       "</div>"
      ],
      "text/plain": [
       "         id  prompt_id                                               text  \\\n",
       "0  e663b2f5          0  The ideal career choice is one that aligns pas...   \n",
       "1  dc1bd601          0  The ideal career choice is one that aligns wit...   \n",
       "2  3f28d007          0  The ideal career choice is one that aligns wit...   \n",
       "3  46232258          0  The ideal career choice is one that aligns wit...   \n",
       "4  f9fff5c6          0  The ideal career choice is one that aligns wit...   \n",
       "\n",
       "   generated              prompt_name  \\\n",
       "0          0  The Ideal Career Choice   \n",
       "1          0  The Ideal Career Choice   \n",
       "2          0  The Ideal Career Choice   \n",
       "3          0  The Ideal Career Choice   \n",
       "4          0  The Ideal Career Choice   \n",
       "\n",
       "                                        instructions  \\\n",
       "0  \\nWrite an explanatory essay to inform fellow ...   \n",
       "1  \\nWrite an explanatory essay to inform fellow ...   \n",
       "2  \\nWrite an explanatory essay to inform fellow ...   \n",
       "3  \\nWrite an explanatory essay to inform fellow ...   \n",
       "4  \\nWrite an explanatory essay to inform fellow ...   \n",
       "\n",
       "                                         source_text  \\\n",
       "0  #How to Choose a Career: 7 Ways to Narrow Your...   \n",
       "1  #How to Choose a Career: 7 Ways to Narrow Your...   \n",
       "2  #How to Choose a Career: 7 Ways to Narrow Your...   \n",
       "3  #How to Choose a Career: 7 Ways to Narrow Your...   \n",
       "4  #How to Choose a Career: 7 Ways to Narrow Your...   \n",
       "\n",
       "                                       combined_text  \\\n",
       "0  the ideal career choice is one that aligns pas...   \n",
       "1  the ideal career choice is one that aligns wit...   \n",
       "2  the ideal career choice is one that aligns wit...   \n",
       "3  the ideal career choice is one that aligns wit...   \n",
       "4  the ideal career choice is one that aligns wit...   \n",
       "\n",
       "                                   gemini_embeddings  \n",
       "0  [0.020818021, -0.071440294, -0.020338288, 0.00...  \n",
       "1  [0.017830085, -0.069388986, -0.020331088, 0.00...  \n",
       "2  [0.020024931, -0.06938759, -0.021297045, 0.003...  \n",
       "3  [0.019194758, -0.0708801, -0.021809917, 0.0043...  \n",
       "4  [0.018189473, -0.072291344, -0.018864194, 0.00...  "
      ]
     },
     "execution_count": 131,
     "metadata": {},
     "output_type": "execute_result"
    }
   ],
   "source": [
    "train_data.head()"
   ]
  },
  {
   "cell_type": "code",
   "execution_count": 136,
   "metadata": {},
   "outputs": [
    {
     "data": {
      "text/html": [
       "<div>\n",
       "<style scoped>\n",
       "    .dataframe tbody tr th:only-of-type {\n",
       "        vertical-align: middle;\n",
       "    }\n",
       "\n",
       "    .dataframe tbody tr th {\n",
       "        vertical-align: top;\n",
       "    }\n",
       "\n",
       "    .dataframe thead th {\n",
       "        text-align: right;\n",
       "    }\n",
       "</style>\n",
       "<table border=\"1\" class=\"dataframe\">\n",
       "  <thead>\n",
       "    <tr style=\"text-align: right;\">\n",
       "      <th></th>\n",
       "      <th>id</th>\n",
       "      <th>prompt_id</th>\n",
       "      <th>text</th>\n",
       "      <th>prompt_name</th>\n",
       "      <th>instructions</th>\n",
       "      <th>source_text</th>\n",
       "      <th>combined_text</th>\n",
       "      <th>gemini_embeddings</th>\n",
       "    </tr>\n",
       "  </thead>\n",
       "  <tbody>\n",
       "    <tr>\n",
       "      <th>0</th>\n",
       "      <td>63cf09af</td>\n",
       "      <td>0</td>\n",
       "      <td>The ideal career choice is one that aligns wit...</td>\n",
       "      <td>The Ideal Career Choice</td>\n",
       "      <td>\\nWrite an explanatory essay to inform fellow ...</td>\n",
       "      <td>#How to Choose a Career: 7 Ways to Narrow Your...</td>\n",
       "      <td>the ideal career choice is one that aligns wit...</td>\n",
       "      <td>[0.018550066, -0.06859474, -0.019664865, 0.005...</td>\n",
       "    </tr>\n",
       "    <tr>\n",
       "      <th>1</th>\n",
       "      <td>908e398d</td>\n",
       "      <td>0</td>\n",
       "      <td>#Pursuing Passion in Professions \\n The ideal ...</td>\n",
       "      <td>The Ideal Career Choice</td>\n",
       "      <td>\\nWrite an explanatory essay to inform fellow ...</td>\n",
       "      <td>#How to Choose a Career: 7 Ways to Narrow Your...</td>\n",
       "      <td>pursuing passion in professions n the ideal ca...</td>\n",
       "      <td>[0.017023593, -0.0675562, -0.017745707, 0.0158...</td>\n",
       "    </tr>\n",
       "    <tr>\n",
       "      <th>2</th>\n",
       "      <td>5e281241</td>\n",
       "      <td>0</td>\n",
       "      <td>The ideal career choice is one that aligns wit...</td>\n",
       "      <td>The Ideal Career Choice</td>\n",
       "      <td>\\nWrite an explanatory essay to inform fellow ...</td>\n",
       "      <td>#How to Choose a Career: 7 Ways to Narrow Your...</td>\n",
       "      <td>the ideal career choice is one that aligns wit...</td>\n",
       "      <td>[0.017483547, -0.06779616, -0.019913165, 0.005...</td>\n",
       "    </tr>\n",
       "    <tr>\n",
       "      <th>3</th>\n",
       "      <td>5f57d123</td>\n",
       "      <td>0</td>\n",
       "      <td>#Embracing Diversity in Career Choices \\n Dive...</td>\n",
       "      <td>The Ideal Career Choice</td>\n",
       "      <td>\\nWrite an explanatory essay to inform fellow ...</td>\n",
       "      <td>#How to Choose a Career: 7 Ways to Narrow Your...</td>\n",
       "      <td>embracing diversity in career choices n divers...</td>\n",
       "      <td>[0.021775626, -0.074008286, -0.024300033, 0.01...</td>\n",
       "    </tr>\n",
       "    <tr>\n",
       "      <th>4</th>\n",
       "      <td>5bef5435</td>\n",
       "      <td>0</td>\n",
       "      <td>The ideal career choice is one that aligns wit...</td>\n",
       "      <td>The Ideal Career Choice</td>\n",
       "      <td>\\nWrite an explanatory essay to inform fellow ...</td>\n",
       "      <td>#How to Choose a Career: 7 Ways to Narrow Your...</td>\n",
       "      <td>the ideal career choice is one that aligns wit...</td>\n",
       "      <td>[0.017188795, -0.06881043, -0.020702654, 0.006...</td>\n",
       "    </tr>\n",
       "  </tbody>\n",
       "</table>\n",
       "</div>"
      ],
      "text/plain": [
       "         id  prompt_id                                               text  \\\n",
       "0  63cf09af          0  The ideal career choice is one that aligns wit...   \n",
       "1  908e398d          0  #Pursuing Passion in Professions \\n The ideal ...   \n",
       "2  5e281241          0  The ideal career choice is one that aligns wit...   \n",
       "3  5f57d123          0  #Embracing Diversity in Career Choices \\n Dive...   \n",
       "4  5bef5435          0  The ideal career choice is one that aligns wit...   \n",
       "\n",
       "               prompt_name                                       instructions  \\\n",
       "0  The Ideal Career Choice  \\nWrite an explanatory essay to inform fellow ...   \n",
       "1  The Ideal Career Choice  \\nWrite an explanatory essay to inform fellow ...   \n",
       "2  The Ideal Career Choice  \\nWrite an explanatory essay to inform fellow ...   \n",
       "3  The Ideal Career Choice  \\nWrite an explanatory essay to inform fellow ...   \n",
       "4  The Ideal Career Choice  \\nWrite an explanatory essay to inform fellow ...   \n",
       "\n",
       "                                         source_text  \\\n",
       "0  #How to Choose a Career: 7 Ways to Narrow Your...   \n",
       "1  #How to Choose a Career: 7 Ways to Narrow Your...   \n",
       "2  #How to Choose a Career: 7 Ways to Narrow Your...   \n",
       "3  #How to Choose a Career: 7 Ways to Narrow Your...   \n",
       "4  #How to Choose a Career: 7 Ways to Narrow Your...   \n",
       "\n",
       "                                       combined_text  \\\n",
       "0  the ideal career choice is one that aligns wit...   \n",
       "1  pursuing passion in professions n the ideal ca...   \n",
       "2  the ideal career choice is one that aligns wit...   \n",
       "3  embracing diversity in career choices n divers...   \n",
       "4  the ideal career choice is one that aligns wit...   \n",
       "\n",
       "                                   gemini_embeddings  \n",
       "0  [0.018550066, -0.06859474, -0.019664865, 0.005...  \n",
       "1  [0.017023593, -0.0675562, -0.017745707, 0.0158...  \n",
       "2  [0.017483547, -0.06779616, -0.019913165, 0.005...  \n",
       "3  [0.021775626, -0.074008286, -0.024300033, 0.01...  \n",
       "4  [0.017188795, -0.06881043, -0.020702654, 0.006...  "
      ]
     },
     "execution_count": 136,
     "metadata": {},
     "output_type": "execute_result"
    }
   ],
   "source": [
    "test_data.head()"
   ]
  },
  {
   "cell_type": "code",
   "execution_count": 99,
   "metadata": {},
   "outputs": [
    {
     "data": {
      "text/plain": [
       "(212, 9)"
      ]
     },
     "execution_count": 99,
     "metadata": {},
     "output_type": "execute_result"
    }
   ],
   "source": [
    "train_data.shape"
   ]
  },
  {
   "cell_type": "code",
   "execution_count": 74,
   "metadata": {},
   "outputs": [
    {
     "data": {
      "text/plain": [
       "(188, 4)"
      ]
     },
     "execution_count": 74,
     "metadata": {},
     "output_type": "execute_result"
    }
   ],
   "source": [
    "test_data.shape"
   ]
  },
  {
   "cell_type": "code",
   "execution_count": 132,
   "metadata": {},
   "outputs": [
    {
     "data": {
      "text/html": [
       "<style>#sk-container-id-4 {color: black;background-color: white;}#sk-container-id-4 pre{padding: 0;}#sk-container-id-4 div.sk-toggleable {background-color: white;}#sk-container-id-4 label.sk-toggleable__label {cursor: pointer;display: block;width: 100%;margin-bottom: 0;padding: 0.3em;box-sizing: border-box;text-align: center;}#sk-container-id-4 label.sk-toggleable__label-arrow:before {content: \"▸\";float: left;margin-right: 0.25em;color: #696969;}#sk-container-id-4 label.sk-toggleable__label-arrow:hover:before {color: black;}#sk-container-id-4 div.sk-estimator:hover label.sk-toggleable__label-arrow:before {color: black;}#sk-container-id-4 div.sk-toggleable__content {max-height: 0;max-width: 0;overflow: hidden;text-align: left;background-color: #f0f8ff;}#sk-container-id-4 div.sk-toggleable__content pre {margin: 0.2em;color: black;border-radius: 0.25em;background-color: #f0f8ff;}#sk-container-id-4 input.sk-toggleable__control:checked~div.sk-toggleable__content {max-height: 200px;max-width: 100%;overflow: auto;}#sk-container-id-4 input.sk-toggleable__control:checked~label.sk-toggleable__label-arrow:before {content: \"▾\";}#sk-container-id-4 div.sk-estimator input.sk-toggleable__control:checked~label.sk-toggleable__label {background-color: #d4ebff;}#sk-container-id-4 div.sk-label input.sk-toggleable__control:checked~label.sk-toggleable__label {background-color: #d4ebff;}#sk-container-id-4 input.sk-hidden--visually {border: 0;clip: rect(1px 1px 1px 1px);clip: rect(1px, 1px, 1px, 1px);height: 1px;margin: -1px;overflow: hidden;padding: 0;position: absolute;width: 1px;}#sk-container-id-4 div.sk-estimator {font-family: monospace;background-color: #f0f8ff;border: 1px dotted black;border-radius: 0.25em;box-sizing: border-box;margin-bottom: 0.5em;}#sk-container-id-4 div.sk-estimator:hover {background-color: #d4ebff;}#sk-container-id-4 div.sk-parallel-item::after {content: \"\";width: 100%;border-bottom: 1px solid gray;flex-grow: 1;}#sk-container-id-4 div.sk-label:hover label.sk-toggleable__label {background-color: #d4ebff;}#sk-container-id-4 div.sk-serial::before {content: \"\";position: absolute;border-left: 1px solid gray;box-sizing: border-box;top: 0;bottom: 0;left: 50%;z-index: 0;}#sk-container-id-4 div.sk-serial {display: flex;flex-direction: column;align-items: center;background-color: white;padding-right: 0.2em;padding-left: 0.2em;position: relative;}#sk-container-id-4 div.sk-item {position: relative;z-index: 1;}#sk-container-id-4 div.sk-parallel {display: flex;align-items: stretch;justify-content: center;background-color: white;position: relative;}#sk-container-id-4 div.sk-item::before, #sk-container-id-4 div.sk-parallel-item::before {content: \"\";position: absolute;border-left: 1px solid gray;box-sizing: border-box;top: 0;bottom: 0;left: 50%;z-index: -1;}#sk-container-id-4 div.sk-parallel-item {display: flex;flex-direction: column;z-index: 1;position: relative;background-color: white;}#sk-container-id-4 div.sk-parallel-item:first-child::after {align-self: flex-end;width: 50%;}#sk-container-id-4 div.sk-parallel-item:last-child::after {align-self: flex-start;width: 50%;}#sk-container-id-4 div.sk-parallel-item:only-child::after {width: 0;}#sk-container-id-4 div.sk-dashed-wrapped {border: 1px dashed gray;margin: 0 0.4em 0.5em 0.4em;box-sizing: border-box;padding-bottom: 0.4em;background-color: white;}#sk-container-id-4 div.sk-label label {font-family: monospace;font-weight: bold;display: inline-block;line-height: 1.2em;}#sk-container-id-4 div.sk-label-container {text-align: center;}#sk-container-id-4 div.sk-container {/* jupyter's `normalize.less` sets `[hidden] { display: none; }` but bootstrap.min.css set `[hidden] { display: none !important; }` so we also need the `!important` here to be able to override the default hidden behavior on the sphinx rendered scikit-learn.org. See: https://github.com/scikit-learn/scikit-learn/issues/21755 */display: inline-block !important;position: relative;}#sk-container-id-4 div.sk-text-repr-fallback {display: none;}</style><div id=\"sk-container-id-4\" class=\"sk-top-container\"><div class=\"sk-text-repr-fallback\"><pre>RandomForestClassifier()</pre><b>In a Jupyter environment, please rerun this cell to show the HTML representation or trust the notebook. <br />On GitHub, the HTML representation is unable to render, please try loading this page with nbviewer.org.</b></div><div class=\"sk-container\" hidden><div class=\"sk-item\"><div class=\"sk-estimator sk-toggleable\"><input class=\"sk-toggleable__control sk-hidden--visually\" id=\"sk-estimator-id-4\" type=\"checkbox\" checked><label for=\"sk-estimator-id-4\" class=\"sk-toggleable__label sk-toggleable__label-arrow\">RandomForestClassifier</label><div class=\"sk-toggleable__content\"><pre>RandomForestClassifier()</pre></div></div></div></div></div>"
      ],
      "text/plain": [
       "RandomForestClassifier()"
      ]
     },
     "execution_count": 132,
     "metadata": {},
     "output_type": "execute_result"
    }
   ],
   "source": [
    "import numpy as np\n",
    "train_data['gemini_embeddings'] = train_data['gemini_embeddings'].apply(lambda x: np.array(x))\n",
    "\n",
    "X_train, X_test, y_train, y_test = train_test_split(\n",
    "    np.vstack(train_data[\"gemini_embeddings\"]),  # Convert lists to a suitable format\n",
    "    train_data[\"generated\"],\n",
    "    test_size=0.2,\n",
    ")\n",
    "\n",
    "model = RandomForestClassifier()\n",
    "model.fit(X_train, y_train)"
   ]
  },
  {
   "cell_type": "code",
   "execution_count": 133,
   "metadata": {},
   "outputs": [
    {
     "data": {
      "text/plain": [
       "1.0"
      ]
     },
     "execution_count": 133,
     "metadata": {},
     "output_type": "execute_result"
    }
   ],
   "source": [
    "model.score(X_train,y_train)"
   ]
  },
  {
   "cell_type": "code",
   "execution_count": 69,
   "metadata": {},
   "outputs": [
    {
     "data": {
      "text/plain": [
       "0.9534883720930233"
      ]
     },
     "execution_count": 69,
     "metadata": {},
     "output_type": "execute_result"
    }
   ],
   "source": [
    "model.score(X_test, y_test)"
   ]
  },
  {
   "cell_type": "code",
   "execution_count": 104,
   "metadata": {},
   "outputs": [
    {
     "data": {
      "text/plain": [
       "0.9767441860465116"
      ]
     },
     "execution_count": 104,
     "metadata": {},
     "output_type": "execute_result"
    }
   ],
   "source": [
    "model.score(X_test, y_test)"
   ]
  },
  {
   "cell_type": "code",
   "execution_count": 134,
   "metadata": {},
   "outputs": [
    {
     "data": {
      "text/plain": [
       "1.0"
      ]
     },
     "execution_count": 134,
     "metadata": {},
     "output_type": "execute_result"
    }
   ],
   "source": [
    "model.score(X_test, y_test)"
   ]
  },
  {
   "cell_type": "code",
   "execution_count": 137,
   "metadata": {},
   "outputs": [],
   "source": [
    "x_val = np.vstack(test_data[\"gemini_embeddings\"])"
   ]
  },
  {
   "cell_type": "code",
   "execution_count": 138,
   "metadata": {},
   "outputs": [],
   "source": [
    "y_pred = model.predict(x_val)"
   ]
  },
  {
   "cell_type": "code",
   "execution_count": 77,
   "metadata": {},
   "outputs": [
    {
     "data": {
      "text/plain": [
       "array([0, 1, 0, 1, 0, 1, 1, 0, 0, 1, 0, 1, 0, 1, 0, 0, 0, 0, 0, 0, 1, 0,\n",
       "       0, 0, 1, 0, 0, 0, 0, 1, 0, 0, 0, 0, 1, 1, 1, 1, 1, 1, 1, 1, 1, 1,\n",
       "       1, 1, 1, 1, 1, 1, 1, 1, 1, 1, 1, 1, 1, 1, 1, 1, 1, 1, 1, 1, 1, 1,\n",
       "       1, 1, 1, 1, 1, 1, 1, 1, 1, 1, 1, 1, 1, 1, 1, 1, 1, 1, 1, 1, 1, 1,\n",
       "       1, 1, 1, 1, 1, 1, 1, 1, 1, 1, 1, 1, 1, 1, 1, 1, 1, 1, 1, 1, 1, 1,\n",
       "       1, 1, 1, 1, 1, 0, 1, 1, 1, 0, 1, 0, 1, 0, 0, 0, 0, 0, 1, 0, 0, 0,\n",
       "       0, 0, 0, 0, 0, 0, 0, 1, 0, 0, 0, 0, 0, 0, 0, 0, 0, 1, 0, 1, 1, 1,\n",
       "       1, 1, 1, 1, 1, 1, 1, 1, 1, 1, 1, 1, 1, 1, 1, 1, 1, 1, 1, 1, 1, 1,\n",
       "       1, 1, 1, 1, 1, 1, 1, 1, 1, 1, 1, 1], dtype=int64)"
      ]
     },
     "execution_count": 77,
     "metadata": {},
     "output_type": "execute_result"
    }
   ],
   "source": [
    "y_pred"
   ]
  },
  {
   "cell_type": "code",
   "execution_count": 111,
   "metadata": {},
   "outputs": [
    {
     "data": {
      "text/plain": [
       "array([0, 0, 0, 0, 0, 1, 1, 0, 0, 1, 0, 1, 0, 1, 0, 0, 0, 0, 0, 0, 1, 0,\n",
       "       0, 0, 1, 0, 0, 0, 0, 1, 0, 0, 0, 0, 0, 1, 1, 1, 1, 1, 1, 1, 1, 1,\n",
       "       1, 1, 1, 1, 1, 1, 1, 1, 1, 1, 1, 1, 1, 1, 1, 1, 1, 1, 1, 1, 1, 1,\n",
       "       1, 1, 1, 1, 1, 1, 1, 1, 1, 1, 1, 1, 1, 1, 1, 1, 1, 1, 1, 1, 1, 1,\n",
       "       1, 1, 1, 1, 1, 1, 1, 1, 1, 1, 1, 1, 1, 1, 1, 1, 1, 1, 1, 1, 1, 1,\n",
       "       1, 1, 1, 1, 1, 0, 0, 0, 0, 0, 1, 0, 0, 0, 0, 0, 0, 0, 1, 0, 0, 0,\n",
       "       0, 0, 0, 0, 0, 0, 0, 0, 0, 0, 0, 0, 0, 0, 0, 0, 0, 1, 0, 1, 1, 1,\n",
       "       1, 1, 1, 1, 1, 1, 1, 1, 1, 1, 1, 1, 1, 1, 1, 1, 1, 1, 1, 1, 1, 1,\n",
       "       1, 1, 1, 1, 1, 1, 1, 1, 1, 1, 1, 1], dtype=int64)"
      ]
     },
     "execution_count": 111,
     "metadata": {},
     "output_type": "execute_result"
    }
   ],
   "source": [
    "y_pred"
   ]
  },
  {
   "cell_type": "code",
   "execution_count": 139,
   "metadata": {},
   "outputs": [
    {
     "data": {
      "text/plain": [
       "array([0, 0, 0, 0, 0, 1, 0, 0, 0, 1, 0, 1, 0, 1, 0, 0, 0, 0, 0, 0, 1, 0,\n",
       "       0, 0, 1, 0, 0, 0, 0, 1, 0, 0, 0, 0, 0, 1, 1, 1, 1, 1, 1, 1, 1, 1,\n",
       "       1, 1, 1, 1, 1, 1, 1, 1, 1, 1, 1, 1, 1, 1, 1, 1, 1, 1, 1, 1, 1, 1,\n",
       "       1, 1, 1, 1, 1, 1, 1, 1, 1, 1, 1, 1, 1, 1, 1, 1, 1, 1, 1, 1, 1, 1,\n",
       "       1, 1, 1, 1, 1, 1, 1, 1, 1, 1, 1, 1, 1, 1, 1, 1, 1, 1, 1, 1, 1, 1,\n",
       "       1, 1, 1, 1, 1, 0, 0, 0, 0, 0, 0, 0, 0, 0, 0, 0, 0, 0, 1, 0, 0, 0,\n",
       "       0, 0, 0, 0, 0, 0, 0, 0, 0, 0, 0, 0, 0, 0, 0, 0, 0, 1, 0, 1, 1, 1,\n",
       "       1, 1, 1, 1, 1, 1, 1, 1, 1, 1, 1, 1, 1, 1, 1, 1, 1, 1, 1, 1, 1, 1,\n",
       "       1, 1, 1, 1, 1, 1, 1, 1, 1, 1, 1, 1], dtype=int64)"
      ]
     },
     "execution_count": 139,
     "metadata": {},
     "output_type": "execute_result"
    }
   ],
   "source": [
    "y_pred"
   ]
  },
  {
   "cell_type": "code",
   "execution_count": 78,
   "metadata": {},
   "outputs": [
    {
     "data": {
      "text/html": [
       "<div>\n",
       "<style scoped>\n",
       "    .dataframe tbody tr th:only-of-type {\n",
       "        vertical-align: middle;\n",
       "    }\n",
       "\n",
       "    .dataframe tbody tr th {\n",
       "        vertical-align: top;\n",
       "    }\n",
       "\n",
       "    .dataframe thead th {\n",
       "        text-align: right;\n",
       "    }\n",
       "</style>\n",
       "<table border=\"1\" class=\"dataframe\">\n",
       "  <thead>\n",
       "    <tr style=\"text-align: right;\">\n",
       "      <th></th>\n",
       "      <th>generated</th>\n",
       "    </tr>\n",
       "  </thead>\n",
       "  <tbody>\n",
       "    <tr>\n",
       "      <th>0</th>\n",
       "      <td>0</td>\n",
       "    </tr>\n",
       "    <tr>\n",
       "      <th>1</th>\n",
       "      <td>0</td>\n",
       "    </tr>\n",
       "    <tr>\n",
       "      <th>2</th>\n",
       "      <td>0</td>\n",
       "    </tr>\n",
       "    <tr>\n",
       "      <th>3</th>\n",
       "      <td>0</td>\n",
       "    </tr>\n",
       "    <tr>\n",
       "      <th>4</th>\n",
       "      <td>0</td>\n",
       "    </tr>\n",
       "  </tbody>\n",
       "</table>\n",
       "</div>"
      ],
      "text/plain": [
       "   generated\n",
       "0          0\n",
       "1          0\n",
       "2          0\n",
       "3          0\n",
       "4          0"
      ]
     },
     "execution_count": 78,
     "metadata": {},
     "output_type": "execute_result"
    }
   ],
   "source": [
    "df_submission.head()"
   ]
  },
  {
   "cell_type": "code",
   "execution_count": 115,
   "metadata": {},
   "outputs": [
    {
     "data": {
      "text/html": [
       "<div>\n",
       "<style scoped>\n",
       "    .dataframe tbody tr th:only-of-type {\n",
       "        vertical-align: middle;\n",
       "    }\n",
       "\n",
       "    .dataframe tbody tr th {\n",
       "        vertical-align: top;\n",
       "    }\n",
       "\n",
       "    .dataframe thead th {\n",
       "        text-align: right;\n",
       "    }\n",
       "</style>\n",
       "<table border=\"1\" class=\"dataframe\">\n",
       "  <thead>\n",
       "    <tr style=\"text-align: right;\">\n",
       "      <th></th>\n",
       "      <th>generated</th>\n",
       "    </tr>\n",
       "  </thead>\n",
       "  <tbody>\n",
       "    <tr>\n",
       "      <th>0</th>\n",
       "      <td>0</td>\n",
       "    </tr>\n",
       "    <tr>\n",
       "      <th>1</th>\n",
       "      <td>0</td>\n",
       "    </tr>\n",
       "    <tr>\n",
       "      <th>2</th>\n",
       "      <td>0</td>\n",
       "    </tr>\n",
       "    <tr>\n",
       "      <th>3</th>\n",
       "      <td>0</td>\n",
       "    </tr>\n",
       "    <tr>\n",
       "      <th>4</th>\n",
       "      <td>0</td>\n",
       "    </tr>\n",
       "  </tbody>\n",
       "</table>\n",
       "</div>"
      ],
      "text/plain": [
       "   generated\n",
       "0          0\n",
       "1          0\n",
       "2          0\n",
       "3          0\n",
       "4          0"
      ]
     },
     "execution_count": 115,
     "metadata": {},
     "output_type": "execute_result"
    }
   ],
   "source": [
    "df_submission.head()"
   ]
  },
  {
   "cell_type": "code",
   "execution_count": 79,
   "metadata": {},
   "outputs": [
    {
     "data": {
      "text/plain": [
       "(188, 1)"
      ]
     },
     "execution_count": 79,
     "metadata": {},
     "output_type": "execute_result"
    }
   ],
   "source": [
    "df_submission.shape"
   ]
  },
  {
   "cell_type": "code",
   "execution_count": 112,
   "metadata": {},
   "outputs": [
    {
     "data": {
      "text/plain": [
       "(188,)"
      ]
     },
     "execution_count": 112,
     "metadata": {},
     "output_type": "execute_result"
    }
   ],
   "source": [
    "y_pred.shape"
   ]
  },
  {
   "cell_type": "code",
   "execution_count": 140,
   "metadata": {},
   "outputs": [],
   "source": [
    "df_submission['generated'] = y_pred"
   ]
  },
  {
   "cell_type": "code",
   "execution_count": 116,
   "metadata": {},
   "outputs": [],
   "source": [
    "df_submission1 = df_submission"
   ]
  },
  {
   "cell_type": "code",
   "execution_count": 141,
   "metadata": {},
   "outputs": [],
   "source": [
    "df_submission2 = df_submission"
   ]
  },
  {
   "cell_type": "code",
   "execution_count": 118,
   "metadata": {},
   "outputs": [],
   "source": [
    "df_submission1.to_csv('submission_1.csv')"
   ]
  },
  {
   "cell_type": "code",
   "execution_count": 142,
   "metadata": {},
   "outputs": [],
   "source": [
    "df_submission2.to_csv('submission_2.csv')"
   ]
  },
  {
   "cell_type": "code",
   "execution_count": null,
   "metadata": {},
   "outputs": [],
   "source": [
    "#base submission 0.50\n",
    "#first submission 0.94"
   ]
  }
 ],
 "metadata": {
  "kernelspec": {
   "display_name": "base",
   "language": "python",
   "name": "python3"
  },
  "language_info": {
   "codemirror_mode": {
    "name": "ipython",
    "version": 3
   },
   "file_extension": ".py",
   "mimetype": "text/x-python",
   "name": "python",
   "nbconvert_exporter": "python",
   "pygments_lexer": "ipython3",
   "version": "3.9.13"
  }
 },
 "nbformat": 4,
 "nbformat_minor": 2
}
